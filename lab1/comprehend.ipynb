{
 "cells": [
  {
   "cell_type": "code",
   "execution_count": null,
   "id": "4e037d7a",
   "metadata": {},
   "outputs": [],
   "source": [
    "import pandas as pd\n",
    "from collections import OrderedDict\n",
    "import boto3\n",
    "import IPython.display as disp"
   ]
  },
  {
   "cell_type": "code",
   "execution_count": null,
   "id": "25515ba8",
   "metadata": {},
   "outputs": [],
   "source": [
    "def load_image(filename):\n",
    "    with open(filename, \"rb\") as imageFile:\n",
    "      f = imageFile.read()\n",
    "      return bytearray(f)\n",
    "\n",
    "def save_words(textract_response):\n",
    "    words=[]\n",
    "    blocks = textract_response['Blocks']\n",
    "    for block in blocks:\n",
    "        if block['BlockType'] == 'WORD':\n",
    "           words.append(block)\n",
    "    return words"
   ]
  },
  {
   "cell_type": "code",
   "execution_count": null,
   "id": "a386b18f",
   "metadata": {},
   "outputs": [],
   "source": [
    "file_dir = 'sample-data'\n",
    "file_name = 'emenda-regimental'\n",
    "sample_file = f'{file_dir}/{file_name}.jpg'"
   ]
  },
  {
   "cell_type": "code",
   "execution_count": null,
   "id": "1faf71e7",
   "metadata": {},
   "outputs": [],
   "source": [
    "textract = boto3.client('textract')"
   ]
  },
  {
   "cell_type": "code",
   "execution_count": null,
   "id": "71f7ebcc",
   "metadata": {},
   "outputs": [],
   "source": [
    "disp.Image(sample_file, width=400)"
   ]
  },
  {
   "cell_type": "code",
   "execution_count": null,
   "id": "4d663163",
   "metadata": {},
   "outputs": [],
   "source": [
    "response = textract.detect_document_text(\n",
    "    Document={\n",
    "        'Bytes': load_image(sample_file),\n",
    "    }\n",
    ")\n",
    "\n",
    "words = save_words(response)\n",
    "len(words)"
   ]
  },
  {
   "cell_type": "code",
   "execution_count": null,
   "id": "c196d0c9",
   "metadata": {},
   "outputs": [],
   "source": [
    "text = ''\n",
    "for word in words:\n",
    "    text += word['Text']+' '\n",
    "print(text)"
   ]
  },
  {
   "cell_type": "code",
   "execution_count": null,
   "id": "4263cb4b",
   "metadata": {},
   "outputs": [],
   "source": [
    "comprehend = boto3.client('comprehend')\n",
    "language='pt'"
   ]
  },
  {
   "cell_type": "code",
   "execution_count": null,
   "id": "3b4e7725",
   "metadata": {},
   "outputs": [],
   "source": [
    "# Key phrases\n",
    "phrases = comprehend.detect_key_phrases(Text=text, LanguageCode=language)\n",
    "\n",
    "# Print the phrases:\n",
    "print('------- phrases ---------')\n",
    "for i in range(0, len(phrases['KeyPhrases'])):\n",
    "    print((phrases['KeyPhrases'][i]['Text']))"
   ]
  },
  {
   "cell_type": "code",
   "execution_count": null,
   "id": "11c1d7c0",
   "metadata": {},
   "outputs": [],
   "source": [
    "# Entities\n",
    "entities = comprehend.detect_entities(Text=text, LanguageCode=language)\n",
    "\n",
    "# Print the entities with entitity type:\n",
    "print('------- entity : entity type ---------')\n",
    "for i in range(0, len(entities['Entities'])):\n",
    "    print(entities['Entities'][i]['Text'] + ' : ' + entities['Entities'][i]['Type'] )"
   ]
  },
  {
   "cell_type": "code",
   "execution_count": null,
   "id": "6fe623ab",
   "metadata": {},
   "outputs": [],
   "source": [
    "#Sentiments\n",
    "sentiments = comprehend.detect_sentiment(Text=text, LanguageCode=language)\n",
    "\n",
    "# Print the sentiment:\n",
    "print('------- sentiment ---------')\n",
    "print(sentiments['Sentiment'])"
   ]
  }
 ],
 "metadata": {
  "kernelspec": {
   "display_name": "Python 3 (ipykernel)",
   "language": "python",
   "name": "python3"
  },
  "language_info": {
   "codemirror_mode": {
    "name": "ipython",
    "version": 3
   },
   "file_extension": ".py",
   "mimetype": "text/x-python",
   "name": "python",
   "nbconvert_exporter": "python",
   "pygments_lexer": "ipython3",
   "version": "3.8.8"
  }
 },
 "nbformat": 4,
 "nbformat_minor": 5
}
